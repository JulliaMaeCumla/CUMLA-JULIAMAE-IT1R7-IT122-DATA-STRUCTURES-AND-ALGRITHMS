{
 "cells": [
  {
   "cell_type": "code",
   "execution_count": 3,
   "id": "arranged-pricing",
   "metadata": {},
   "outputs": [
    {
     "name": "stdout",
     "output_type": "stream",
     "text": [
      "Discuss your learnings on Chapter 1  time-frame 8:00 - 30:35. Minimum of 200 characters \n",
      "\n",
      "I learned that Algorithm is a step-by-step process that makes inputs into outputs, and Data Structure is a way to organized a thousands of data for it to be more efficient to facilitate.\n"
     ]
    }
   ],
   "source": [
    "print(\"Discuss your learnings on Chapter 1  time-frame 8:00 - 30:35. Minimum of 200 characters \\n\")\n",
    "print(\"I learned that Algorithm is a step-by-step process that makes inputs into outputs, and Data Structure is a way to organized a thousands of data for it to be more efficient to facilitate.\")"
   ]
  },
  {
   "cell_type": "code",
   "execution_count": 4,
   "id": "infrared-serum",
   "metadata": {},
   "outputs": [
    {
     "name": "stdout",
     "output_type": "stream",
     "text": [
      "Discuss your learnings on Chapter 1  time-frame 35:00 - end. Minimum of 200 characters \n",
      "\n",
      "I also learned why it has to be Data Structure and Algorithm, that it for us to learn make codes in a shorter time even in complexible ways.\n"
     ]
    }
   ],
   "source": [
    "print(\"Discuss your learnings on Chapter 1  time-frame 35:00 - end. Minimum of 200 characters \\n\")\n",
    "print(\"I also learned why it has to be Data Structure and Algorithm, that it for us to learn make codes in a shorter time even in complexible ways.\")"
   ]
  },
  {
   "cell_type": "code",
   "execution_count": 5,
   "id": "successful-cricket",
   "metadata": {},
   "outputs": [
    {
     "name": "stdout",
     "output_type": "stream",
     "text": [
      "Discuss your learnings on Chapter 2  time-frame 5:00 - 9:00. Minimum of 200 characters \n",
      "\n",
      "I also learned why it has to be Data Structure and Algorithm, that it for us to learn make codes in a shorter time even in complexible ways.\n"
     ]
    }
   ],
   "source": [
    "print(\"Discuss your learnings on Chapter 2  time-frame 5:00 - 9:00. Minimum of 200 characters \\n\")\n",
    "print(\"I also learned why it has to be Data Structure and Algorithm, that it for us to learn make codes in a shorter time even in complexible ways.\")"
   ]
  },
  {
   "cell_type": "code",
   "execution_count": 6,
   "id": "physical-peter",
   "metadata": {},
   "outputs": [
    {
     "name": "stdout",
     "output_type": "stream",
     "text": [
      "Discuss your learnings on Chapter 3  time-frame 3:00 - 18:00. Minimum of 200 characters \n",
      "\n",
      "In chapter 3,I learned about Arrays are used for a single variable to hold numbers of values of a same type. I also learned a simple coding creating an array, accessing it using the traverse,insertion which we insert new values on the idexes,deletion, search, and update method where we update  new values on the said codes in Python.\n"
     ]
    }
   ],
   "source": [
    "print(\"Discuss your learnings on Chapter 3  time-frame 3:00 - 18:00. Minimum of 200 characters \\n\")\n",
    "print(\"In chapter 3,I learned about Arrays are used for a single variable to hold numbers of values of a same type. I also learned a simple coding creating an array, accessing it using the traverse,insertion which we insert new values on the idexes,deletion, search, and update method where we update  new values on the said codes in Python.\")"
   ]
  },
  {
   "cell_type": "code",
   "execution_count": 2,
   "id": "cheap-edinburgh",
   "metadata": {},
   "outputs": [
    {
     "name": "stdout",
     "output_type": "stream",
     "text": [
      "5.0\n",
      "10.0\n",
      "4.0\n",
      "25.0\n"
     ]
    }
   ],
   "source": [
    "from array import *\n",
    "array1 = array('d',[5, 10, 15, 20, 25])\n",
    "array1.remove(15)\n",
    "array1[2] = 4\n",
    "for x in array1:\n",
    "    print(x)"
   ]
  },
  {
   "cell_type": "code",
   "execution_count": null,
   "id": "purple-amsterdam",
   "metadata": {},
   "outputs": [],
   "source": []
  }
 ],
 "metadata": {
  "kernelspec": {
   "display_name": "Python 3",
   "language": "python",
   "name": "python3"
  },
  "language_info": {
   "codemirror_mode": {
    "name": "ipython",
    "version": 3
   },
   "file_extension": ".py",
   "mimetype": "text/x-python",
   "name": "python",
   "nbconvert_exporter": "python",
   "pygments_lexer": "ipython3",
   "version": "3.9.2"
  }
 },
 "nbformat": 4,
 "nbformat_minor": 5
}
